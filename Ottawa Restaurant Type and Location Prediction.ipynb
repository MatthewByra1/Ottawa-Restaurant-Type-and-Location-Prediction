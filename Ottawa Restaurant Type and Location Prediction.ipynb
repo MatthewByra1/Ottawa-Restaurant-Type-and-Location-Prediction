{
    "nbformat_minor": 1, 
    "cells": [
        {
            "source": "# Importing Required Modules", 
            "cell_type": "markdown", 
            "metadata": {}
        }, 
        {
            "execution_count": 23, 
            "cell_type": "code", 
            "metadata": {
                "scrolled": true
            }, 
            "outputs": [
                {
                    "output_type": "stream", 
                    "name": "stdout", 
                    "text": "Requirement already satisfied: inline in /opt/conda/envs/DSX-Python35/lib/python3.5/site-packages (0.0.1)\nRequirement already satisfied: folium in /opt/conda/envs/DSX-Python35/lib/python3.5/site-packages (0.9.0)\nRequirement already satisfied: branca>=0.3.0 in /opt/conda/envs/DSX-Python35/lib/python3.5/site-packages (from folium) (0.3.1)\nRequirement already satisfied: numpy in /opt/conda/envs/DSX-Python35/lib/python3.5/site-packages (from folium) (1.13.3)\nRequirement already satisfied: jinja2>=2.9 in /opt/conda/envs/DSX-Python35/lib/python3.5/site-packages (from folium) (2.9.6)\nRequirement already satisfied: requests in /opt/conda/envs/DSX-Python35/lib/python3.5/site-packages (from folium) (2.18.4)\nRequirement already satisfied: six in /opt/conda/envs/DSX-Python35/lib/python3.5/site-packages (from branca>=0.3.0->folium) (1.11.0)\nRequirement already satisfied: MarkupSafe>=0.23 in /opt/conda/envs/DSX-Python35/lib/python3.5/site-packages (from jinja2>=2.9->folium) (1.0)\nRequirement already satisfied: chardet<3.1.0,>=3.0.2 in /opt/conda/envs/DSX-Python35/lib/python3.5/site-packages (from requests->folium) (3.0.4)\nRequirement already satisfied: idna<2.7,>=2.5 in /opt/conda/envs/DSX-Python35/lib/python3.5/site-packages (from requests->folium) (2.6)\nRequirement already satisfied: urllib3<1.23,>=1.21.1 in /opt/conda/envs/DSX-Python35/lib/python3.5/site-packages (from requests->folium) (1.22)\nRequirement already satisfied: certifi>=2017.4.17 in /opt/conda/envs/DSX-Python35/lib/python3.5/site-packages (from requests->folium) (2019.3.9)\nRequirement already satisfied: inline in /opt/conda/envs/DSX-Python35/lib/python3.5/site-packages (0.0.1)\nRequirement already satisfied: beautifulsoup4 in /opt/conda/envs/DSX-Python35/lib/python3.5/site-packages (4.6.0)\nRequirement already satisfied: inline in /opt/conda/envs/DSX-Python35/lib/python3.5/site-packages (0.0.1)\nRequirement already satisfied: lxml in /opt/conda/envs/DSX-Python35/lib/python3.5/site-packages (4.1.0)\nRequirement already satisfied: inline in /opt/conda/envs/DSX-Python35/lib/python3.5/site-packages (0.0.1)\nRequirement already satisfied: requests in /opt/conda/envs/DSX-Python35/lib/python3.5/site-packages (2.18.4)\nRequirement already satisfied: chardet<3.1.0,>=3.0.2 in /opt/conda/envs/DSX-Python35/lib/python3.5/site-packages (from requests) (3.0.4)\nRequirement already satisfied: idna<2.7,>=2.5 in /opt/conda/envs/DSX-Python35/lib/python3.5/site-packages (from requests) (2.6)\nRequirement already satisfied: urllib3<1.23,>=1.21.1 in /opt/conda/envs/DSX-Python35/lib/python3.5/site-packages (from requests) (1.22)\nRequirement already satisfied: certifi>=2017.4.17 in /opt/conda/envs/DSX-Python35/lib/python3.5/site-packages (from requests) (2019.3.9)\nRequirement already satisfied: inline in /opt/conda/envs/DSX-Python35/lib/python3.5/site-packages (0.0.1)\nCollecting geocode\n  Using cached https://files.pythonhosted.org/packages/b1/ab/546879710e53108c1752c38542c5da41ded62c8c7a63add31d8b9303d3c7/geocode-0.1.0.tar.gz\n    Complete output from command python setup.py egg_info:\n    Traceback (most recent call last):\n      File \"<string>\", line 1, in <module>\n      File \"/home/dsxuser/.tmp/pip-install-4vf79chd/geocode/setup.py\", line 2, in <module>\n        from __init__ import __version__\n      File \"/home/dsxuser/.tmp/pip-install-4vf79chd/geocode/__init__.py\", line 3, in <module>\n        from geocode import *\n      File \"/home/dsxuser/.tmp/pip-install-4vf79chd/geocode/geocode.py\", line 97\n        print latlon(input)\n                   ^\n    SyntaxError: invalid syntax\n    \n    ----------------------------------------\n\u001b[31mCommand \"python setup.py egg_info\" failed with error code 1 in /home/dsxuser/.tmp/pip-install-4vf79chd/geocode/\u001b[0m\nRequirement already up-to-date: tensorflow in /opt/conda/envs/DSX-Python35/lib/python3.5/site-packages (1.13.1)\nRequirement not upgraded as not directly required: keras-applications>=1.0.6 in /opt/conda/envs/DSX-Python35/lib/python3.5/site-packages (from tensorflow) (1.0.7)\nRequirement not upgraded as not directly required: termcolor>=1.1.0 in /opt/conda/envs/DSX-Python35/lib/python3.5/site-packages (from tensorflow) (1.1.0)\nRequirement not upgraded as not directly required: absl-py>=0.1.6 in /opt/conda/envs/DSX-Python35/lib/python3.5/site-packages (from tensorflow) (0.7.1)\nRequirement not upgraded as not directly required: protobuf>=3.6.1 in /opt/conda/envs/DSX-Python35/lib/python3.5/site-packages (from tensorflow) (3.7.1)\nRequirement not upgraded as not directly required: grpcio>=1.8.6 in /opt/conda/envs/DSX-Python35/lib/python3.5/site-packages (from tensorflow) (1.21.1)\nRequirement not upgraded as not directly required: numpy>=1.13.3 in /opt/conda/envs/DSX-Python35/lib/python3.5/site-packages (from tensorflow) (1.13.3)\nRequirement not upgraded as not directly required: six>=1.10.0 in /opt/conda/envs/DSX-Python35/lib/python3.5/site-packages (from tensorflow) (1.11.0)\nRequirement not upgraded as not directly required: keras-preprocessing>=1.0.5 in /opt/conda/envs/DSX-Python35/lib/python3.5/site-packages (from tensorflow) (1.0.9)\nRequirement not upgraded as not directly required: gast>=0.2.0 in /opt/conda/envs/DSX-Python35/lib/python3.5/site-packages (from tensorflow) (0.2.2)\nRequirement not upgraded as not directly required: tensorboard<1.14.0,>=1.13.0 in /opt/conda/envs/DSX-Python35/lib/python3.5/site-packages (from tensorflow) (1.13.1)\nRequirement not upgraded as not directly required: astor>=0.6.0 in /opt/conda/envs/DSX-Python35/lib/python3.5/site-packages (from tensorflow) (0.8.0)\nRequirement not upgraded as not directly required: wheel>=0.26 in /opt/conda/envs/DSX-Python35/lib/python3.5/site-packages (from tensorflow) (0.29.0)\nRequirement not upgraded as not directly required: tensorflow-estimator<1.14.0rc0,>=1.13.0 in /opt/conda/envs/DSX-Python35/lib/python3.5/site-packages (from tensorflow) (1.13.0)\nRequirement not upgraded as not directly required: h5py in /opt/conda/envs/DSX-Python35/lib/python3.5/site-packages (from keras-applications>=1.0.6->tensorflow) (2.7.0)\nRequirement not upgraded as not directly required: setuptools in /opt/conda/envs/DSX-Python35/lib/python3.5/site-packages (from protobuf>=3.6.1->tensorflow) (36.5.0.post20170921)\nRequirement not upgraded as not directly required: werkzeug>=0.11.15 in /opt/conda/envs/DSX-Python35/lib/python3.5/site-packages (from tensorboard<1.14.0,>=1.13.0->tensorflow) (0.12.2)\nRequirement not upgraded as not directly required: markdown>=2.6.8 in /opt/conda/envs/DSX-Python35/lib/python3.5/site-packages (from tensorboard<1.14.0,>=1.13.0->tensorflow) (2.6.9)\nRequirement not upgraded as not directly required: mock>=2.0.0 in /opt/conda/envs/DSX-Python35/lib/python3.5/site-packages (from tensorflow-estimator<1.14.0rc0,>=1.13.0->tensorflow) (3.0.5)\n"
                }
            ], 
            "source": "!pip install inline folium\n!pip install inline beautifulsoup4\n!pip install inline lxml\n!pip install inline requests\n!pip install inline geocode\n!pip install --upgrade tensorflow\nimport numpy as np\nimport pandas as pd\nimport matplotlib as plt\nimport json\nbody = client_0c91842efc1a45b2b53a6830d9c94262.get_object(Bucket='datascience-donotdelete-pr-mrcxrdfxydb92m',Key='onsboundariesgen1v2.csv')['Body']\n# add missing __iter__ method, so pandas accepts body as file-like object\nif not hasattr(body, \"__iter__\"): body.__iter__ = types.MethodType( __iter__, body )\n\ndf_data_1 = pd.read_csv(body)\ndf_data_1.head()\n\nimport tensorflow\nimport sklearn.cluster as KMeans\nfrom bs4 import BeautifulSoup\nimport requests\nimport csv\nfrom geopy.geocoders import Nominatim # convert an address into latitude and longitude values\n# Matplotlib and associated plotting modules\nimport matplotlib.cm as cm\nimport matplotlib.colors as colors\nimport folium"
        }, 
        {
            "source": "# Data", 
            "cell_type": "markdown", 
            "metadata": {}
        }, 
        {
            "source": "##### To analyze and predict what location and type would be best for building or investing in a restaurant we are going to require a number of information:\n##### 1. The venues and buildings around Ottawa, this will be provided by the FourSquare API\n##### 2. Reviews and succeses of these restuarants, and there types. This will be provided by scraping Yelp Information\n##### 3. We are going to require key feautures that allow for a restuarant to be successful, this will be provided by 'the balance of small business'\n##### 4. User 'u/serenerdy' from reddit made a dataset for Ethnic resturants and the types they are that will also be utliziled where neccesary", 
            "cell_type": "markdown", 
            "metadata": {}
        }, 
        {
            "execution_count": 51, 
            "cell_type": "code", 
            "metadata": {}, 
            "outputs": [], 
            "source": "# The code was removed by Watson Studio for sharing."
        }, 
        {
            "source": "# Ethnic Restaurant Data\n#### This dataset has extensice information about the type of Restaurant, Location, What type it is, and notes about the resturant\n#### which will aid the FourSqaure API data", 
            "cell_type": "markdown", 
            "metadata": {}
        }, 
        {
            "execution_count": 53, 
            "cell_type": "code", 
            "metadata": {}, 
            "outputs": [
                {
                    "execution_count": 53, 
                    "metadata": {}, 
                    "data": {
                        "text/html": "<div>\n<style scoped>\n    .dataframe tbody tr th:only-of-type {\n        vertical-align: middle;\n    }\n\n    .dataframe tbody tr th {\n        vertical-align: top;\n    }\n\n    .dataframe thead th {\n        text-align: right;\n    }\n</style>\n<table border=\"1\" class=\"dataframe\">\n  <thead>\n    <tr style=\"text-align: right;\">\n      <th></th>\n      <th>Restaurant</th>\n      <th>Area</th>\n      <th>Location</th>\n      <th>Venue type</th>\n      <th>Ethnic Fare</th>\n      <th>Price</th>\n      <th>Recommendations/Notes</th>\n      <th>Link to site</th>\n      <th>Phone</th>\n    </tr>\n  </thead>\n  <tbody>\n    <tr>\n      <th>0</th>\n      <td>7e Oeil</td>\n      <td>Ottawa East</td>\n      <td>2-411 McArthur</td>\n      <td>Sit-Down/Delivery</td>\n      <td>Afro-Caribbean</td>\n      <td>DIY</td>\n      <td>NaN</td>\n      <td>https://www.facebook.com/7oeil.caribean.food/</td>\n      <td>NaN</td>\n    </tr>\n    <tr>\n      <th>1</th>\n      <td>Aahar the Taste of India</td>\n      <td>Ottawa East / West</td>\n      <td>727 Churchill (west)\\n1573 Alta Vista (east)</td>\n      <td>Sit-Down</td>\n      <td>Indian</td>\n      <td>DIY</td>\n      <td>NaN</td>\n      <td>http://www.aahar.ca/</td>\n      <td>NaN</td>\n    </tr>\n    <tr>\n      <th>2</th>\n      <td>Adam's Sausage Factory</td>\n      <td>Ottawa East</td>\n      <td>1437 Michael St.</td>\n      <td>Deli</td>\n      <td>Polish Deli</td>\n      <td>DIY</td>\n      <td>NaN</td>\n      <td>http://www.adamssausages.com/</td>\n      <td>NaN</td>\n    </tr>\n    <tr>\n      <th>3</th>\n      <td>Ahora</td>\n      <td>Downtown Ottawa</td>\n      <td>307 Dalhousie</td>\n      <td>Sit-Down</td>\n      <td>Tex/Mex</td>\n      <td>DIY</td>\n      <td>NaN</td>\n      <td>http://www.ahora.ca/</td>\n      <td>NaN</td>\n    </tr>\n    <tr>\n      <th>4</th>\n      <td>Aiyara Thai</td>\n      <td>Ottawa South</td>\n      <td>1590 Walkley Road</td>\n      <td>Sit-Down</td>\n      <td>Thai</td>\n      <td>DIY</td>\n      <td>Gorgeous d\u00e9cor, Pineapple Rice dish recommended</td>\n      <td>https://www.aiyarathaicuisine.ca/</td>\n      <td>NaN</td>\n    </tr>\n    <tr>\n      <th>5</th>\n      <td>Alirang</td>\n      <td>Downtown Ottawa</td>\n      <td>134 Nelson st</td>\n      <td>Sit-Down</td>\n      <td>Korean</td>\n      <td>DIY</td>\n      <td>Bibimbap, Bulgogi recommended</td>\n      <td>https://www.yelp.ca/biz/alirang-hamilton</td>\n      <td>NaN</td>\n    </tr>\n    <tr>\n      <th>6</th>\n      <td>Ariana Kebab</td>\n      <td>Downtown / Ottawa South</td>\n      <td>2677 Alta Vista dr. (south)\\n 424 Rideau st (d...</td>\n      <td>Sit-Down</td>\n      <td>Afghani</td>\n      <td>DIY</td>\n      <td>NaN</td>\n      <td>http://www.arianakababhouse.com/</td>\n      <td>NaN</td>\n    </tr>\n    <tr>\n      <th>7</th>\n      <td>Asian Stars</td>\n      <td>Ottawa West</td>\n      <td>1380 Clyde ave</td>\n      <td>Sit-Down</td>\n      <td>Variety of Asian</td>\n      <td>DIY</td>\n      <td>Vegan options available</td>\n      <td>http://asianstarsrestaurant.com/index.html</td>\n      <td>NaN</td>\n    </tr>\n    <tr>\n      <th>8</th>\n      <td>Baan Thai</td>\n      <td>Ottawa West</td>\n      <td>261 Centerpoint dr.</td>\n      <td>Sit-Down</td>\n      <td>Thai</td>\n      <td>DIY</td>\n      <td>Smaller location- limited seating</td>\n      <td>https://baanthairestaurantottawa.ca/</td>\n      <td>NaN</td>\n    </tr>\n    <tr>\n      <th>9</th>\n      <td>Bienvenidos</td>\n      <td>Ottawa East</td>\n      <td>1731 St.Laurent Blvd</td>\n      <td>Market / Grocer</td>\n      <td>Latin</td>\n      <td>DIY</td>\n      <td>Empanadas, pupusas, tamales recommended</td>\n      <td>http://www.bienvenidoslatinmarket.ca/</td>\n      <td>NaN</td>\n    </tr>\n    <tr>\n      <th>10</th>\n      <td>Big Easy's</td>\n      <td>Ottawa West</td>\n      <td>228 Preston</td>\n      <td>Sit-Down</td>\n      <td>Cajun</td>\n      <td>DIY</td>\n      <td>NaN</td>\n      <td>http://bigeasys.ca/</td>\n      <td>NaN</td>\n    </tr>\n  </tbody>\n</table>\n</div>", 
                        "text/plain": "                  Restaurant                     Area  \\\n0                    7e Oeil              Ottawa East   \n1   Aahar the Taste of India       Ottawa East / West   \n2     Adam's Sausage Factory              Ottawa East   \n3                      Ahora          Downtown Ottawa   \n4                Aiyara Thai             Ottawa South   \n5                    Alirang          Downtown Ottawa   \n6               Ariana Kebab  Downtown / Ottawa South   \n7                Asian Stars              Ottawa West   \n8                  Baan Thai              Ottawa West   \n9                Bienvenidos              Ottawa East   \n10                Big Easy's              Ottawa West   \n\n                                             Location         Venue type  \\\n0                                     2-411 McArthur   Sit-Down/Delivery   \n1        727 Churchill (west)\\n1573 Alta Vista (east)           Sit-Down   \n2                                    1437 Michael St.               Deli   \n3                                       307 Dalhousie           Sit-Down   \n4                                   1590 Walkley Road           Sit-Down   \n5                                       134 Nelson st           Sit-Down   \n6   2677 Alta Vista dr. (south)\\n 424 Rideau st (d...           Sit-Down   \n7                                      1380 Clyde ave           Sit-Down   \n8                                261 Centerpoint dr.            Sit-Down   \n9                                1731 St.Laurent Blvd    Market / Grocer   \n10                                        228 Preston           Sit-Down   \n\n         Ethnic Fare Price                            Recommendations/Notes  \\\n0     Afro-Caribbean   DIY                                              NaN   \n1             Indian   DIY                                              NaN   \n2        Polish Deli   DIY                                              NaN   \n3            Tex/Mex   DIY                                              NaN   \n4               Thai   DIY  Gorgeous d\u00e9cor, Pineapple Rice dish recommended   \n5             Korean   DIY                    Bibimbap, Bulgogi recommended   \n6            Afghani   DIY                                              NaN   \n7   Variety of Asian   DIY                          Vegan options available   \n8               Thai   DIY                Smaller location- limited seating   \n9              Latin   DIY          Empanadas, pupusas, tamales recommended   \n10             Cajun   DIY                                              NaN   \n\n                                     Link to site  Phone  \n0   https://www.facebook.com/7oeil.caribean.food/    NaN  \n1                            http://www.aahar.ca/    NaN  \n2                   http://www.adamssausages.com/    NaN  \n3                            http://www.ahora.ca/    NaN  \n4               https://www.aiyarathaicuisine.ca/    NaN  \n5        https://www.yelp.ca/biz/alirang-hamilton    NaN  \n6                http://www.arianakababhouse.com/    NaN  \n7      http://asianstarsrestaurant.com/index.html    NaN  \n8            https://baanthairestaurantottawa.ca/    NaN  \n9           http://www.bienvenidoslatinmarket.ca/    NaN  \n10                            http://bigeasys.ca/    NaN  "
                    }, 
                    "output_type": "execute_result"
                }
            ], 
            "source": "df = pd.read_excel(data,'Ethnic Restaurants')\ndf.head(11)"
        }, 
        {
            "source": "# Neighborhood Data, there names and the association Area, Population and ID\n##### This dataset was gathered from Ottawa Open Data", 
            "cell_type": "markdown", 
            "metadata": {}
        }, 
        {
            "execution_count": 60, 
            "cell_type": "code", 
            "metadata": {}, 
            "outputs": [
                {
                    "execution_count": 60, 
                    "metadata": {}, 
                    "data": {
                        "text/html": "<div>\n<style scoped>\n    .dataframe tbody tr th:only-of-type {\n        vertical-align: middle;\n    }\n\n    .dataframe tbody tr th {\n        vertical-align: top;\n    }\n\n    .dataframe thead th {\n        text-align: right;\n    }\n</style>\n<table border=\"1\" class=\"dataframe\">\n  <thead>\n    <tr style=\"text-align: right;\">\n      <th></th>\n      <th>ONS_ID</th>\n      <th>Name</th>\n      <th>Name_FR</th>\n      <th>Cen2011POP</th>\n    </tr>\n  </thead>\n  <tbody>\n    <tr>\n      <th>0</th>\n      <td>1</td>\n      <td>Barrhaven</td>\n      <td></td>\n      <td>17250</td>\n    </tr>\n    <tr>\n      <th>1</th>\n      <td>2</td>\n      <td>Bayshore - Belltown</td>\n      <td></td>\n      <td>8060</td>\n    </tr>\n    <tr>\n      <th>2</th>\n      <td>3</td>\n      <td>Beacon Hill South - Cardinal Heights</td>\n      <td>C\u00f4te Beacon Sud - Cardinal Heights</td>\n      <td>7305</td>\n    </tr>\n    <tr>\n      <th>3</th>\n      <td>4</td>\n      <td>Beaverbrook</td>\n      <td></td>\n      <td>5180</td>\n    </tr>\n    <tr>\n      <th>4</th>\n      <td>5</td>\n      <td>Beechwood Cemetery</td>\n      <td>Cimeti\u00e8re Beechwood</td>\n      <td>451</td>\n    </tr>\n    <tr>\n      <th>5</th>\n      <td>6</td>\n      <td>Bells Corners East</td>\n      <td>Bells Corners Est</td>\n      <td>5110</td>\n    </tr>\n    <tr>\n      <th>6</th>\n      <td>7</td>\n      <td>Bells Corners West</td>\n      <td>Bells Corners Ouest</td>\n      <td>4355</td>\n    </tr>\n    <tr>\n      <th>7</th>\n      <td>8</td>\n      <td>Billings Bridge - Alta Vista</td>\n      <td>Pont Billings - Alta Vista</td>\n      <td>11880</td>\n    </tr>\n    <tr>\n      <th>8</th>\n      <td>9</td>\n      <td>Blackburn Hamlet</td>\n      <td></td>\n      <td>8260</td>\n    </tr>\n    <tr>\n      <th>9</th>\n      <td>10</td>\n      <td>Borden Farm - Stewart Farm - Parkwood Hills - ...</td>\n      <td>Ferme Borden - Ferme Stewart - C\u00f4tes Parkwood ...</td>\n      <td>10135</td>\n    </tr>\n    <tr>\n      <th>10</th>\n      <td>11</td>\n      <td>Braemar Park - Bel Air Heights - Copeland Park</td>\n      <td>Parc Braemar - Hauteurs Bel Air - Parc Copeland</td>\n      <td>6810</td>\n    </tr>\n  </tbody>\n</table>\n</div>", 
                        "text/plain": "    ONS_ID                                               Name  \\\n0        1                                          Barrhaven   \n1        2                                Bayshore - Belltown   \n2        3               Beacon Hill South - Cardinal Heights   \n3        4                                        Beaverbrook   \n4        5                                 Beechwood Cemetery   \n5        6                                 Bells Corners East   \n6        7                                 Bells Corners West   \n7        8                       Billings Bridge - Alta Vista   \n8        9                                   Blackburn Hamlet   \n9       10  Borden Farm - Stewart Farm - Parkwood Hills - ...   \n10      11     Braemar Park - Bel Air Heights - Copeland Park   \n\n                                              Name_FR  Cen2011POP  \n0                                                           17250  \n1                                                            8060  \n2                  C\u00f4te Beacon Sud - Cardinal Heights        7305  \n3                                                            5180  \n4                                 Cimeti\u00e8re Beechwood         451  \n5                                   Bells Corners Est        5110  \n6                                 Bells Corners Ouest        4355  \n7                          Pont Billings - Alta Vista       11880  \n8                                                            8260  \n9   Ferme Borden - Ferme Stewart - C\u00f4tes Parkwood ...       10135  \n10    Parc Braemar - Hauteurs Bel Air - Parc Copeland        6810  "
                    }, 
                    "output_type": "execute_result"
                }
            ], 
            "source": "body = client_0c91842efc1a45b2b53a6830d9c94262.get_object(Bucket='datascience-donotdelete-pr-mrcxrdfxydb92m',Key='onsboundariesgen1v2.csv')['Body']\nif not hasattr(body, \"__iter__\"): body.__iter__ = types.MethodType( __iter__, body )\ndf_2 = pd.read_csv(body, encoding='latin-1')\ndf_2.head(11)"
        }, 
        {
            "execution_count": null, 
            "cell_type": "code", 
            "metadata": {}, 
            "outputs": [], 
            "source": ""
        }, 
        {
            "execution_count": null, 
            "cell_type": "code", 
            "metadata": {}, 
            "outputs": [], 
            "source": ""
        }, 
        {
            "execution_count": null, 
            "cell_type": "code", 
            "metadata": {}, 
            "outputs": [], 
            "source": ""
        }, 
        {
            "execution_count": null, 
            "cell_type": "code", 
            "metadata": {}, 
            "outputs": [], 
            "source": ""
        }, 
        {
            "execution_count": null, 
            "cell_type": "code", 
            "metadata": {}, 
            "outputs": [], 
            "source": ""
        }
    ], 
    "metadata": {
        "kernelspec": {
            "display_name": "Python 3.5", 
            "name": "python3", 
            "language": "python"
        }, 
        "language_info": {
            "mimetype": "text/x-python", 
            "nbconvert_exporter": "python", 
            "version": "3.5.5", 
            "name": "python", 
            "file_extension": ".py", 
            "pygments_lexer": "ipython3", 
            "codemirror_mode": {
                "version": 3, 
                "name": "ipython"
            }
        }
    }, 
    "nbformat": 4
}